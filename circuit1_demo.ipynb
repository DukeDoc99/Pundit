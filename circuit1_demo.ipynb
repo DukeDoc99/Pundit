{
 "cells": [
  {
   "cell_type": "code",
   "execution_count": 3,
   "id": "66fb0078",
   "metadata": {},
   "outputs": [
    {
     "ename": "ModuleNotFoundError",
     "evalue": "No module named 'sym_helper'",
     "output_type": "error",
     "traceback": [
      "\u001b[1;31m---------------------------------------------------------------------------\u001b[0m",
      "\u001b[1;31mModuleNotFoundError\u001b[0m                       Traceback (most recent call last)",
      "\u001b[1;32m~\\AppData\\Local\\Temp/ipykernel_14024/504728760.py\u001b[0m in \u001b[0;36m<module>\u001b[1;34m\u001b[0m\n\u001b[0;32m      1\u001b[0m \u001b[1;32mimport\u001b[0m \u001b[0msympy\u001b[0m \u001b[1;32mas\u001b[0m \u001b[0msym\u001b[0m\u001b[1;33m\u001b[0m\u001b[1;33m\u001b[0m\u001b[0m\n\u001b[1;32m----> 2\u001b[1;33m \u001b[1;32mfrom\u001b[0m \u001b[0msym_helper\u001b[0m \u001b[1;32mimport\u001b[0m \u001b[0mmakesubs\u001b[0m\u001b[1;33m,\u001b[0m \u001b[0mprintout\u001b[0m\u001b[1;33m\u001b[0m\u001b[1;33m\u001b[0m\u001b[0m\n\u001b[0m",
      "\u001b[1;31mModuleNotFoundError\u001b[0m: No module named 'sym_helper'"
     ]
    }
   ],
   "source": [
    "import sympy as sym\n",
    "from sym_helper import makesubs, printout"
   ]
  },
  {
   "cell_type": "code",
   "execution_count": null,
   "id": "10b55e0f",
   "metadata": {},
   "outputs": [],
   "source": [
    "sym.init_printing()"
   ]
  },
  {
   "cell_type": "code",
   "execution_count": null,
   "id": "3c71c521",
   "metadata": {},
   "outputs": [],
   "source": [
    "# Declare symbols (unknowns in first group, knowns in second)\n",
    "unks = sym.var('v1, v2, va, i1, i2, ib')\n",
    "knowns = sym.var('vb, ia, R1, R2')"
   ]
  },
  {
   "cell_type": "code",
   "execution_count": null,
   "id": "a954b97c",
   "metadata": {},
   "outputs": [],
   "source": [
    "# Element equations\n",
    "OhmR1 = sym.Eq(v1, i1*R1)\n",
    "OhmR2 = sym.Eq(v2, i2*R2)"
   ]
  },
  {
   "cell_type": "code",
   "execution_count": null,
   "id": "935cf524",
   "metadata": {},
   "outputs": [],
   "source": [
    "# KCL equations\n",
    "KCLna = -ia+i1+i2 \n",
    "KCLnb = -i2+ib "
   ]
  },
  {
   "cell_type": "code",
   "execution_count": null,
   "id": "054e3ce7",
   "metadata": {},
   "outputs": [],
   "source": [
    "# KVL equations\n",
    "KVLl1 = -va+v1\n",
    "KVLl2 = -v1+v2+vb"
   ]
  },
  {
   "cell_type": "code",
   "execution_count": null,
   "id": "f467db12",
   "metadata": {},
   "outputs": [],
   "source": [
    "# Collect equations\n",
    "eqns = [OhmR1, OhmR2, KCLna, KCLnb, KVLl1, KVLl2]"
   ]
  },
  {
   "cell_type": "code",
   "execution_count": null,
   "id": "4487120f",
   "metadata": {},
   "outputs": [],
   "source": [
    "# Solve and display\n",
    "sol = sym.solve(eqns, unks)\n",
    "printout(sol, unks)"
   ]
  },
  {
   "cell_type": "code",
   "execution_count": null,
   "id": "4c749a0f",
   "metadata": {},
   "outputs": [],
   "source": [
    "# Define substitions\n",
    "subvar = [R1, R2, ia, vb]\n",
    "subval = [1000, 2200, 5/1000, 12]\n",
    "subsol = makesubs(sol, subvar, subval)\n",
    "printout(subsol, unks, 4)"
   ]
  },
  {
   "cell_type": "code",
   "execution_count": null,
   "id": "13fe9d77",
   "metadata": {},
   "outputs": [],
   "source": [
    "# Aux equations\n",
    "aunks = sym.var('pdelia, pdelvb, pabsR1, pabsR2')"
   ]
  },
  {
   "cell_type": "code",
   "execution_count": null,
   "id": "81d44079",
   "metadata": {},
   "outputs": [],
   "source": [
    "# Aux equations\n",
    "aunks = sym.var('pdelia, pdelvb, pabsR1, pabsR2')\n",
    "\n",
    "ae = []\n",
    "ae.append(sym.Eq(pdelia, va*ia))\n",
    "ae.append(sym.Eq(pdelvb, -vb*ib))\n",
    "ae.append(sym.Eq(pabsR1, v1*i1))\n",
    "ae.append(sym.Eq(pabsR2, v2*i2))"
   ]
  },
  {
   "cell_type": "code",
   "execution_count": null,
   "id": "1263644f",
   "metadata": {},
   "outputs": [],
   "source": [
    "# Show as functions of all variables\n",
    "asol = sym.solve(ae, aunks)\n",
    "printout(asol, aunks)"
   ]
  },
  {
   "cell_type": "code",
   "execution_count": null,
   "id": "62b8934b",
   "metadata": {},
   "outputs": [],
   "source": [
    "# Show as functions of known variables\n",
    "subasol1 = makesubs(asol, sol.keys(), sol.values())\n",
    "printout(subasol1, aunks)"
   ]
  },
  {
   "cell_type": "code",
   "execution_count": null,
   "id": "683a386e",
   "metadata": {},
   "outputs": [],
   "source": [
    "# Show with all substitutions\n",
    "subasol2 = makesubs(asol, subsol.keys(), subsol.values())\n",
    "subasol2 = makesubs(subasol2, subvar, subval)\n",
    "printout(subasol2, aunks, 4)"
   ]
  },
  {
   "cell_type": "code",
   "execution_count": null,
   "id": "6c934df2",
   "metadata": {},
   "outputs": [],
   "source": []
  },
  {
   "cell_type": "code",
   "execution_count": null,
   "id": "421f0d21",
   "metadata": {},
   "outputs": [],
   "source": []
  }
 ],
 "metadata": {
  "kernelspec": {
   "display_name": "Python 3 (ipykernel)",
   "language": "python",
   "name": "python3"
  },
  "language_info": {
   "codemirror_mode": {
    "name": "ipython",
    "version": 3
   },
   "file_extension": ".py",
   "mimetype": "text/x-python",
   "name": "python",
   "nbconvert_exporter": "python",
   "pygments_lexer": "ipython3",
   "version": "3.8.12"
  }
 },
 "nbformat": 4,
 "nbformat_minor": 5
}
